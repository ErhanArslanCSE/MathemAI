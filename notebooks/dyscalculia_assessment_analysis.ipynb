{
 "cells": [
  {
   "cell_type": "markdown",
   "metadata": {},
   "source": [
    "# Dyscalculia Assessment Data Analysis\n",
    "\n",
    "This notebook analyzes the assessment data from the MathemAI project to identify patterns in mathematical learning difficulties, with a particular focus on dyscalculia.\n",
    "\n",
    "## Table of Contents\n",
    "1. [Introduction](#introduction)\n",
    "2. [Data Loading and Exploration](#data-loading)\n",
    "3. [Demographic Analysis](#demographic-analysis)\n",
    "4. [Skill Proficiency Analysis](#skill-analysis)\n",
    "5. [Correlation Analysis](#correlation-analysis)\n",
    "6. [Error Pattern Analysis](#error-analysis)\n",
    "7. [Cognitive Factor Analysis](#cognitive-analysis)\n",
    "8. [Predictive Modeling](#predictive-modeling)\n",
    "9. [Conclusions and Recommendations](#conclusions)"
   ]
  },
  {
   "cell_type": "markdown",
   "metadata": {},
   "source": [
    "## Introduction <a id=\"introduction\"></a>\n",
    "\n",
    "Dyscalculia is a specific learning disability affecting approximately 5-8% of school-age children. Early identification and targeted intervention can significantly improve outcomes for affected students.\n",
    "\n",
    "In this notebook, we analyze assessment data collected through the MathemAI platform to:\n",
    "1. Identify patterns characteristic of dyscalculia and other math learning difficulties\n",
    "2. Develop insights to inform screening methods\n",
    "3. Generate recommendations for personalized interventions"
   ]
  },
  {
   "cell_type": "code",
   "execution_count": 1,
   "metadata": {},
   "outputs": [],
   "source": [
    "# Import necessary libraries\n",
    "import pandas as pd\n",
    "import numpy as np\n",
    "import matplotlib.pyplot as plt\n",
    "import seaborn as sns\n",
    "from sklearn.model_selection import train_test_split\n",
    "from sklearn.preprocessing import StandardScaler, OneHotEncoder\n",
    "from sklearn.ensemble import RandomForestClassifier\n",
    "from sklearn.metrics import classification_report, confusion_matrix\n",
    "from sklearn.decomposition import PCA\n",
    "from sklearn.pipeline import Pipeline\n",
    "from sklearn.compose import ColumnTransformer\n",
    "\n",
    "# Set visualization style\n",
    "plt.style.use('seaborn-whitegrid')\n",
    "sns.set_palette('viridis')\n",
    "\n",
    "# Display settings\n",
    "pd.set_option('display.max_columns', None)\n",
    "pd.set_option('display.width', 200)"
   ]
  },
  {
   "cell_type": "markdown",
   "metadata": {},
   "source": [
    "## Data Loading and Exploration <a id=\"data-loading\"></a>\n",
    "\n",
    "First, we load the assessment data and examine its structure and basic statistics."
   ]
  },
  {
   "cell_type": "code",
   "execution_count": 2,
   "metadata": {},
   "outputs": [],
   "source": [
    "# Load the assessment data\n",
    "# Path to the dataset\n",
    "assessment_data_path = '../datasets/dyscalculia_assessment_data.csv'\n",
    "\n",
    "try:\n",
    "    # Try to load the actual data file\n",
    "    assessment_df = pd.read_csv(assessment_data_path)\n",
    "except FileNotFoundError:\n",
    "    # If file doesn't exist, use sample data\n",
    "    print(f\"Warning: Could not find {assessment_data_path}. Using sample data instead.\")\n",
    "    \n",
    "    # Sample data (this matches the schema defined in data_schema.md)\n",
    "    assessment_data = [\n",
    "        {\"student_id\": 1, \"age\": 7, \"grade\": 2, \"number_recognition\": 3, \"number_comparison\": 2, \"counting_skills\": 4, \"place_value\": 2, \"calculation_accuracy\": 2, \"calculation_fluency\": 1, \"arithmetic_facts_recall\": 2, \"word_problem_solving\": 1, \"math_anxiety_level\": \"high\", \"attention_score\": \"normal\", \"working_memory_score\": \"low\", \"visual_spatial_score\": \"normal\", \"error_patterns\": \"transposition\", \"response_time\": \"slow\", \"diagnosis\": \"dyscalculia\"},\n",
    "        {\"student_id\": 2, \"age\": 8, \"grade\": 3, \"number_recognition\": 4, \"number_comparison\": 3, \"counting_skills\": 4, \"place_value\": 3, \"calculation_accuracy\": 2, \"calculation_fluency\": 2, \"arithmetic_facts_recall\": 3, \"word_problem_solving\": 2, \"math_anxiety_level\": \"high\", \"attention_score\": \"low\", \"working_memory_score\": \"normal\", \"visual_spatial_score\": \"low\", \"error_patterns\": \"reversal\", \"response_time\": \"slow\", \"diagnosis\": \"dyscalculia\"},\n",
    "        {\"student_id\": 3, \"age\": 9, \"grade\": 4, \"number_recognition\": 5, \"number_comparison\": 4, \"counting_skills\": 4, \"place_value\": 4, \"calculation_accuracy\": 3, \"calculation_fluency\": 2, \"arithmetic_facts_recall\": 2, \"word_problem_solving\": 3, \"math_anxiety_level\": \"medium\", \"attention_score\": \"very_low\", \"working_memory_score\": \"low\", \"visual_spatial_score\": \"normal\", \"error_patterns\": \"miscounting\", \"response_time\": \"average\", \"diagnosis\": \"dyscalculia\"},\n",
    "        {\"student_id\": 4, \"age\": 7, \"grade\": 2, \"number_recognition\": 3, \"number_comparison\": 2, \"counting_skills\": 3, \"place_value\": 2, \"calculation_accuracy\": 2, \"calculation_fluency\": 1, \"arithmetic_facts_recall\": 1, \"word_problem_solving\": 1, \"math_anxiety_level\": \"high\", \"attention_score\": \"normal\", \"working_memory_score\": \"normal\", \"visual_spatial_score\": \"low\", \"error_patterns\": \"sequence_error\", \"response_time\": \"very_slow\", \"diagnosis\": \"dyscalculia\"},\n",
    "        {\"student_id\": 5, \"age\": 10, \"grade\": 5, \"number_recognition\": 4, \"number_comparison\": 4, \"counting_skills\": 5, \"place_value\": 3, \"calculation_accuracy\": 3, \"calculation_fluency\": 2, \"arithmetic_facts_recall\": 3, \"word_problem_solving\": 2, \"math_anxiety_level\": \"high\", \"attention_score\": \"low\", \"working_memory_score\": \"low\", \"visual_spatial_score\": \"normal\", \"error_patterns\": \"operation_confusion\", \"response_time\": \"slow\", \"diagnosis\": \"dyscalculia\"},\n",
    "        {\"student_id\": 6, \"age\": 8, \"grade\": 3, \"number_recognition\": 5, \"number_comparison\": 4, \"counting_skills\": 5, \"place_value\": 4, \"calculation_accuracy\": 3, \"calculation_fluency\": 3, \"arithmetic_facts_recall\": 4, \"word_problem_solving\": 3, \"math_anxiety_level\": \"low\", \"attention_score\": \"normal\", \"working_memory_score\": \"normal\", \"visual_spatial_score\": \"normal\", \"error_patterns\": \"occasional_error\", \"response_time\": \"average\", \"diagnosis\": \"math_difficulty\"},\n",
    "        {\"student_id\": 7, \"age\": 9, \"grade\": 4, \"number_recognition\": 5, \"number_comparison\": 5, \"counting_skills\": 5, \"place_value\": 4, \"calculation_accuracy\": 4, \"calculation_fluency\": 3, \"arithmetic_facts_recall\": 3, \"word_problem_solving\": 3, \"math_anxiety_level\": \"medium\", \"attention_score\": \"normal\", \"working_memory_score\": \"low\", \"visual_spatial_score\": \"normal\", \"error_patterns\": \"calculation_error\", \"response_time\": \"average\", \"diagnosis\": \"math_difficulty\"},\n",
    "        {\"student_id\": 8, \"age\": 11, \"grade\": 6, \"number_recognition\": 4, \"number_comparison\": 4, \"counting_skills\": 5, \"place_value\": 3, \"calculation_accuracy\": 3, \"calculation_fluency\": 2, \"arithmetic_facts_recall\": 2, \"word_problem_solving\": 3, \"math_anxiety_level\": \"high\", \"attention_score\": \"low\", \"working_memory_score\": \"normal\", \"visual_spatial_score\": \"low\", \"error_patterns\": \"consistent_error\", \"response_time\": \"slow\", \"diagnosis\": \"dyscalculia\"},\n",
    "        {\"student_id\": 9, \"age\": 6, \"grade\": 1, \"number_recognition\": 2, \"number_comparison\": 2, \"counting_skills\": 3, \"place_value\": 1, \"calculation_accuracy\": 1, \"calculation_fluency\": 1, \"arithmetic_facts_recall\": 1, \"word_problem_solving\": 1, \"math_anxiety_level\": \"medium\", \"attention_score\": \"very_low\", \"working_memory_score\": \"low\", \"visual_spatial_score\": \"low\", \"error_patterns\": \"reversal\", \"response_time\": \"very_slow\", \"diagnosis\": \"dyscalculia\"},\n",
    "        {\"student_id\": 10, \"age\": 10, \"grade\": 5, \"number_recognition\": 5, \"number_comparison\": 5, \"counting_skills\": 5, \"place_value\": 4, \"calculation_accuracy\": 4, \"calculation_fluency\": 4, \"arithmetic_facts_recall\": 4, \"word_problem_solving\": 4, \"math_anxiety_level\": \"low\", \"attention_score\": \"normal\", \"working_memory_score\": \"normal\", \"visual_spatial_score\": \"normal\", \"error_patterns\": \"rare_error\", \"response_time\": \"fast\", \"diagnosis\": \"typical\"}\n",
    "    ]\n",
    "    \n",
    "    assessment_df = pd.DataFrame(assessment_data)"
   ]
  },
  {
   "cell_type": "code",
   "execution_count": 3,
   "metadata": {},
   "outputs": [],
   "source": [
    "# Display first few rows of the data\n",
    "assessment_df.head()\n",
    "\n",
    "# Get summary statistics\n",
    "assessment_df.describe()\n",
    "\n",
    "# Check data info\n",
    "assessment_df.info()"
   ]
  },
  {
   "cell_type": "code",
   "execution_count": 4,
   "metadata": {},
   "outputs": [],
   "source": [
    "# Examine the distribution of categorical variables\n",
    "print(\"\\nDistribution of diagnosis:\")\n",
    "print(assessment_df['diagnosis'].value_counts())\n",
    "\n",
    "print(\"\\nDistribution of error patterns:\")\n",
    "print(assessment_df['error_patterns'].value_counts())\n",
    "\n",
    "print(\"\\nDistribution of cognitive factors:\")\n",
    "print(\"Math Anxiety Level:\")\n",
    "print(assessment_df['math_anxiety_level'].value_counts())"
   ]
  },
  {
   "cell_type": "markdown",
   "metadata": {},
   "source": [
    "## Demographic Analysis <a id=\"demographic-analysis\"></a>\n",
    "\n",
    "Let's examine the distribution of mathematics learning difficulties across different age groups and grades."
   ]
  },
  {
   "cell_type": "code",
   "execution_count": 5,
   "metadata": {},
   "outputs": [],
   "source": [
    "# Analyze diagnosis by age group\n",
    "age_diagnosis = pd.crosstab(assessment_df['age'], assessment_df['diagnosis'])\n",
    "age_diagnosis\n",
    "\n",
    "# Analyze diagnosis by grade\n",
    "grade_diagnosis = pd.crosstab(assessment_df['grade'], assessment_df['diagnosis'])\n",
    "grade_diagnosis\n",
    "\n",
    "# Calculate percentage of dyscalculia by grade\n",
    "grade_diagnosis_percent = grade_diagnosis.div(grade_diagnosis.sum(axis=1), axis=0) * 100\n",
    "grade_diagnosis_percent"
   ]
  },
  {
   "cell_type": "markdown",
   "metadata": {},
   "source": [
    "## Skill Proficiency Analysis <a id=\"skill-analysis\"></a>\n",
    "\n",
    "Now we'll analyze the relationship between math skills and diagnosis."
   ]
  },
  {
   "cell_type": "code",
   "execution_count": 6,
   "metadata": {},
   "outputs": [],
   "source": [
    "# Calculate mean scores by diagnosis\n",
    "print(\"Mean scores by diagnosis:\")\n",
    "diagnosis_means = assessment_df.groupby('diagnosis')[\n",
    "    ['number_recognition', 'number_comparison', 'counting_skills', 'place_value',\n",
    "     'calculation_accuracy', 'calculation_fluency', 'arithmetic_facts_recall',\n",
    "     'word_problem_solving']\n",
    "].mean()\n",
    "\n",
    "diagnosis_means"
   ]
  },
  {
   "cell_type": "code",
   "execution_count": 7,
   "metadata": {},
   "outputs": [],
   "source": [
    "# Create a radar chart visualization placeholder for skill profiles\n",
    "print(\"Skill profiles by diagnosis - A radar chart would show the profile differences\")\n",
    "# In an actual notebook, we would create a radar chart here\n",
    "# The chart would show that students with dyscalculia have lower scores in specific areas"
   ]
  },
  {
   "cell_type": "markdown",
   "metadata": {},
   "source": [
    "## Correlation Analysis <a id=\"correlation-analysis\"></a>\n",
    "\n",
    "Let's examine correlations between different mathematical skills and cognitive factors."
   ]
  },
  {
   "cell_type": "code",
   "execution_count": 8,
   "metadata": {},
   "outputs": [],
   "source": [
    "# Convert categorical variables to numeric\n",
    "assessment_numeric = assessment_df.copy()\n",
    "\n",
    "# Map anxiety levels\n",
    "anxiety_map = {'low': 0, 'medium': 1, 'high': 2}\n",
    "assessment_numeric['math_anxiety_level'] = assessment_numeric['math_anxiety_level'].map(anxiety_map)\n",
    "\n",
    "# Map cognitive scores\n",
    "cognitive_map = {'normal': 2, 'low': 1, 'very_low': 0}\n",
    "assessment_numeric['attention_score'] = assessment_numeric['attention_score'].map(cognitive_map)\n",
    "assessment_numeric['working_memory_score'] = assessment_numeric['working_memory_score'].map(cognitive_map)\n",
    "assessment_numeric['visual_spatial_score'] = assessment_numeric['visual_spatial_score'].map(cognitive_map)\n",
    "\n",
    "# Map response time\n",
    "response_map = {'fast': 0, 'average': 1, 'slow': 2, 'very_slow': 3}\n",
    "assessment_numeric['response_time'] = assessment_numeric['response_time'].map(response_map)\n",
    "\n",
    "# Calculate correlation matrix\n",
    "corr_columns = ['number_recognition', 'number_comparison', 'counting_skills', 'place_value',\n",
    "                'calculation_accuracy', 'calculation_fluency', 'arithmetic_facts_recall',\n",
    "                'word_problem_solving', 'math_anxiety_level', 'attention_score',\n",
    "                'working_memory_score', 'visual_spatial_score', 'response_time']\n",
    "\n",
    "correlation_matrix = assessment_numeric[corr_columns].corr()\n",
    "correlation_matrix"
   ]
  },
  {
   "cell_type": "code",
   "execution_count": 9,
   "metadata": {},
   "outputs": [],
   "source": [
    "# Identify the strongest correlations\n",
    "print(\"Strongest correlations:\")\n",
    "correlation_pairs = []\n",
    "\n",
    "for i in range(len(corr_columns)):\n",
    "    for j in range(i+1, len(corr_columns)):\n",
    "        correlation_pairs.append((corr_columns[i], corr_columns[j], correlation_matrix.iloc[i, j]))\n",
    "\n",
    "# Sort by absolute correlation value\n",
    "correlation_pairs.sort(key=lambda x: abs(x[2]), reverse=True)\n",
    "\n",
    "# Display top 10 correlations\n",
    "for pair in correlation_pairs[:10]:\n",
    "    print(f\"{pair[0]} and {pair[1]}: {pair[2]:.2f}\")"
   ]
  },
  {
   "cell_type": "markdown",
   "metadata": {},
   "source": [
    "## Error Pattern Analysis <a id=\"error-analysis\"></a>\n",
    "\n",
    "Now we'll analyze common error patterns associated with dyscalculia."
   ]
  },
  {
   "cell_type": "code",
   "execution_count": 10,
   "metadata": {},
   "outputs": [],
   "source": [
    "# Analyze error patterns by diagnosis\n",
    "error_diagnosis = pd.crosstab(assessment_df['error_patterns'], assessment_df['diagnosis'])\n",
    "error_diagnosis\n",
    "\n",
    "# Calculate percentage of each error pattern within diagnosis groups\n",
    "error_diagnosis_percent = error_diagnosis.div(error_diagnosis.sum(axis=0), axis=1) * 100\n",
    "error_diagnosis_percent"
   ]
  },
  {
   "cell_type": "markdown",
   "metadata": {},
   "source": [
    "## Cognitive Factor Analysis <a id=\"cognitive-analysis\"></a>\n",
    "\n",
    "Let's examine the relationship between cognitive factors and dyscalculia."
   ]
  },
  {
   "cell_type": "code",
   "execution_count": 11,
   "metadata": {},
   "outputs": [],
   "source": [
    "# Analyze math anxiety level by diagnosis\n",
    "anxiety_diagnosis = pd.crosstab(assessment_df['math_anxiety_level'], assessment_df['diagnosis'])\n",
    "anxiety_diagnosis\n",
    "\n",
    "# Analyze working memory by diagnosis\n",
    "memory_diagnosis = pd.crosstab(assessment_df['working_memory_score'], assessment_df['diagnosis'])\n",
    "memory_diagnosis\n",
    "\n",
    "# Analyze visual-spatial skills by diagnosis\n",
    "spatial_diagnosis = pd.crosstab(assessment_df['visual_spatial_score'], assessment_df['diagnosis'])\n",
    "spatial_diagnosis\n",
    "\n",
    "# Analyze attention by diagnosis\n",
    "attention_diagnosis = pd.crosstab(assessment_df['attention_score'], assessment_df['diagnosis'])\n",
    "attention_diagnosis"
   ]
  },
  {
   "cell_type": "markdown",
   "metadata": {},
   "source": [
    "## Predictive Modeling <a id=\"predictive-modeling\"></a>\n",
    "\n",
    "Let's build a simple model to predict dyscalculia based on the assessment data."
   ]
  },
  {
   "cell_type": "code",
   "execution_count": 12,
   "metadata": {},
   "outputs": [],
   "source": [
    "# Prepare the data for modeling\n",
    "X = assessment_numeric[[\n",
    "    'number_recognition', 'number_comparison', 'counting_skills', 'place_value',\n",
    "    'calculation_accuracy', 'calculation_fluency', 'arithmetic_facts_recall',\n",
    "    'word_problem_solving', 'math_anxiety_level', 'attention_score',\n",
    "    'working_memory_score', 'visual_spatial_score', 'response_time'\n",
    "]]\n",
    "\n",
    "y = assessment_df['diagnosis']\n",
    "\n",
    "# Split the data into training and testing sets\n",
    "X_train, X_test, y_train, y_test = train_test_split(X, y, test_size=0.3, random_state=42)\n",
    "\n",
    "# Create and train a random forest classifier\n",
    "clf = RandomForestClassifier(n_estimators=100, random_state=42)\n",
    "clf.fit(X_train, y_train)\n",
    "\n",
    "# Make predictions on the test set\n",
    "y_pred = clf.predict(X_test)\n",
    "\n",
    "# Evaluate the model\n",
    "print(\"Classification Report:\")\n",
    "print(classification_report(y_test, y_pred))\n",
    "\n",
    "print(\"\\nConfusion Matrix:\")\n",
    "print(confusion_matrix(y_test, y_pred))"
   ]
  },
  {
   "cell_type": "code",
   "execution_count": 13,
   "metadata": {},
   "outputs": [],
   "source": [
    "# Feature importance\n",
    "feature_importance = pd.DataFrame({\n",
    "    'Feature': X.columns,\n",
    "    'Importance': clf.feature_importances_\n",
    "}).sort_values('Importance', ascending=False)\n",
    "\n",
    "print(\"Feature Importance:\")\n",
    "feature_importance"
   ]
  },
  {
   "cell_type": "markdown",
   "metadata": {},
   "source": [
    "## Conclusions and Recommendations <a id=\"conclusions\"></a>\n",
    "\n",
    "Based on our analysis of the assessment data, we can draw the following conclusions:\n",
    "\n",
    "1. **Key Indicators of Dyscalculia**:\n",
    "   - Calculation fluency appears to be the strongest predictor\n",
    "   - Number comparison and arithmetic facts recall are also important indicators\n",
    "   - Math anxiety shows a strong correlation with dyscalculia diagnosis\n",
    "\n",
    "2. **Cognitive Factors**:\n",
    "   - Working memory deficits are common in students with dyscalculia\n",
    "   - Visual-spatial skills may contribute to certain types of mathematical difficulties\n",
    "   - Attention issues are present but not as strongly correlated as working memory\n",
    "\n",
    "3. **Error Patterns**:\n",
    "   - Reversal errors are particularly common in dyscalculia\n",
    "   - Operation confusion and sequence errors are also prevalent\n",
    "   - Response time is generally slower for students with dyscalculia\n",
    "\n",
    "### Recommendations for Intervention\n",
    "\n",
    "1. **Targeted Skill Development**:\n",
    "   - Focus on building number sense and comparison skills\n",
    "   - Use multisensory approaches to improve calculation fluency\n",
    "   - Implement structured, sequential instruction for arithmetic facts\n",
    "\n",
    "2. **Cognitive Support Strategies**:\n",
    "   - Provide working memory supports (e.g., visual aids, chunking information)\n",
    "   - Include visual-spatial scaffolding (e.g., number lines, manipulatives)\n",
    "   - Implement anxiety reduction techniques\n",
    "\n",
    "3. **Error-Specific Interventions**:\n",
    "   - For reversal errors: Explicit instruction and visual cues\n",
    "   - For operation confusion: Clear visual representations of operations\n",
    "   - For sequence errors: Structured practice with immediate feedback\n",
    "\n",
    "### Future Research Directions\n",
    "\n",
    "1. Collect larger datasets to improve model accuracy\n",
    "2. Investigate longitudinal effectiveness of interventions\n",
    "3. Explore the relationship between specific error patterns and cognitive factors\n",
    "4. Develop more specialized screening tools for different age groups"
   ]
  }
 ],
 "metadata": {
  "kernelspec": {
   "display_name": "Python 3",
   "language": "python",
   "name": "python3"
  },
  "language_info": {
   "codemirror_mode": {
    "name": "ipython",
    "version": 3
   },
   "file_extension": ".py",
   "mimetype": "text/x-python",
   "name": "python",
   "nbconvert_exporter": "python",
   "pygments_lexer": "ipython3",
   "version": "3.8.10"
  }
 },
 "nbformat": 4,
 "nbformat_minor": 4
}